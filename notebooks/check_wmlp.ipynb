{
 "cells": [
  {
   "cell_type": "code",
   "execution_count": 1,
   "metadata": {},
   "outputs": [],
   "source": [
    "import sys\n",
    "from pathlib import Path\n",
    "from copy import deepcopy\n",
    "def find_project_root(start_path: Path = Path.cwd(), marker: str = 'pyproject.toml') -> Path:\n",
    "    current_path = start_path.resolve()\n",
    "    for parent in [current_path] + list(current_path.parents):\n",
    "        if (parent / marker).exists():\n",
    "            return parent\n",
    "        \n",
    "def add_project_root_to_sys_path(marker: str = 'pyproject.toml'):\n",
    "    project_root = find_project_root(marker=marker)\n",
    "    if str(project_root) not in sys.path:\n",
    "        sys.path.insert(0, str(project_root))\n",
    "\n",
    "add_project_root_to_sys_path()\n"
   ]
  },
  {
   "cell_type": "code",
   "execution_count": 2,
   "metadata": {},
   "outputs": [],
   "source": [
    "import torch\n",
    "import torch.nn as nn\n",
    "import torch.nn.functional as F\n",
    "from torch.utils.data import DataLoader, random_split\n",
    "import numpy as np\n",
    "import copy\n",
    "\n",
    "from src.asym_ensembles.data_loaders import load_california_housing\n",
    "from src.asym_ensembles.modeling.training import set_global_seed, train_one_model\n",
    "from src.asym_ensembles.modeling.models import WMLP"
   ]
  },
  {
   "cell_type": "code",
   "execution_count": 3,
   "metadata": {},
   "outputs": [],
   "source": [
    "train_ds, val_ds, test_ds = load_california_housing()\n",
    "subset_size = 2000\n",
    "train_ds_small, _ = random_split(train_ds, [subset_size, len(train_ds) - subset_size])\n",
    "\n",
    "batch_size = 64\n",
    "train_loader = DataLoader(train_ds_small, batch_size=batch_size, shuffle=True)\n",
    "val_loader = DataLoader(val_ds, batch_size=batch_size, shuffle=False)\n",
    "\n",
    "in_features = train_ds.tensors[0].shape[1]\n",
    "hidden_dim = 16\n",
    "out_features = 1\n",
    "num_layers = 4"
   ]
  },
  {
   "cell_type": "code",
   "execution_count": 4,
   "metadata": {},
   "outputs": [],
   "source": [
    "seed_value = 123\n",
    "\n",
    "\n",
    "mask_params = {\n",
    "    0: {\n",
    "        \"mask_constant\": 1,\n",
    "        \"mask_type\": \"random_subsets\",\n",
    "        \"do_normal_mask\": True,\n",
    "        \"num_fixed\": 2,\n",
    "    },\n",
    "    1: {\n",
    "        \"mask_constant\": 1,\n",
    "        \"mask_type\": \"random_subsets\",\n",
    "        \"do_normal_mask\": True,\n",
    "        \"num_fixed\": 3,\n",
    "    },\n",
    "    2: {\n",
    "        \"mask_constant\": 1,\n",
    "        \"mask_type\": \"random_subsets\",\n",
    "        \"do_normal_mask\": True,\n",
    "        \"num_fixed\": 3,\n",
    "    },\n",
    "    3: {\n",
    "        \"mask_constant\": 1,\n",
    "        \"mask_type\": \"random_subsets\",\n",
    "        \"do_normal_mask\": True,\n",
    "        \"num_fixed\": 3,\n",
    "    },\n",
    "}\n",
    "set_global_seed(seed_value)\n",
    "wmlp1 = WMLP(in_features, hidden_dim, out_features, num_layers, mask_params, norm=None)\n",
    "\n"
   ]
  },
  {
   "cell_type": "code",
   "execution_count": 5,
   "metadata": {},
   "outputs": [],
   "source": [
    "# set_global_seed(seed_value + 1)\n",
    "wmlp2 = WMLP(in_features, hidden_dim, out_features, num_layers, mask_params, norm=None)"
   ]
  },
  {
   "cell_type": "code",
   "execution_count": 6,
   "metadata": {},
   "outputs": [],
   "source": [
    "first_layer10 = deepcopy(wmlp1.lins[0])  # SparseLinear\n",
    "first_layer20 = deepcopy(wmlp2.lins[0])"
   ]
  },
  {
   "cell_type": "code",
   "execution_count": 7,
   "metadata": {},
   "outputs": [
    {
     "data": {
      "text/plain": [
       "tensor([[True, True, True, True, True, True, True, True],\n",
       "        [True, True, True, True, True, True, True, True],\n",
       "        [True, True, True, True, True, True, True, True],\n",
       "        [True, True, True, True, True, True, True, True],\n",
       "        [True, True, True, True, True, True, True, True],\n",
       "        [True, True, True, True, True, True, True, True],\n",
       "        [True, True, True, True, True, True, True, True],\n",
       "        [True, True, True, True, True, True, True, True],\n",
       "        [True, True, True, True, True, True, True, True],\n",
       "        [True, True, True, True, True, True, True, True],\n",
       "        [True, True, True, True, True, True, True, True],\n",
       "        [True, True, True, True, True, True, True, True],\n",
       "        [True, True, True, True, True, True, True, True],\n",
       "        [True, True, True, True, True, True, True, True],\n",
       "        [True, True, True, True, True, True, True, True],\n",
       "        [True, True, True, True, True, True, True, True]])"
      ]
     },
     "execution_count": 7,
     "metadata": {},
     "output_type": "execute_result"
    }
   ],
   "source": [
    "first_layer10.mask == first_layer20.mask"
   ]
  },
  {
   "cell_type": "code",
   "execution_count": 8,
   "metadata": {},
   "outputs": [
    {
     "data": {
      "text/plain": [
       "tensor([[True, True, True, True, True, True, True, True],\n",
       "        [True, True, True, True, True, True, True, True],\n",
       "        [True, True, True, True, True, True, True, True],\n",
       "        [True, True, True, True, True, True, True, True],\n",
       "        [True, True, True, True, True, True, True, True],\n",
       "        [True, True, True, True, True, True, True, True],\n",
       "        [True, True, True, True, True, True, True, True],\n",
       "        [True, True, True, True, True, True, True, True],\n",
       "        [True, True, True, True, True, True, True, True],\n",
       "        [True, True, True, True, True, True, True, True],\n",
       "        [True, True, True, True, True, True, True, True],\n",
       "        [True, True, True, True, True, True, True, True],\n",
       "        [True, True, True, True, True, True, True, True],\n",
       "        [True, True, True, True, True, True, True, True],\n",
       "        [True, True, True, True, True, True, True, True],\n",
       "        [True, True, True, True, True, True, True, True]])"
      ]
     },
     "execution_count": 8,
     "metadata": {},
     "output_type": "execute_result"
    }
   ],
   "source": [
    "first_layer10.weight * (1 - first_layer10.mask) == first_layer20.weight * (1 - first_layer20.mask)"
   ]
  },
  {
   "cell_type": "code",
   "execution_count": 9,
   "metadata": {},
   "outputs": [
    {
     "data": {
      "text/plain": [
       "tensor([[False,  True, False, False, False, False,  True, False],\n",
       "        [False, False,  True, False, False,  True, False, False],\n",
       "        [ True, False, False, False, False, False,  True, False],\n",
       "        [False, False,  True, False, False, False,  True, False],\n",
       "        [False, False, False, False, False, False,  True,  True],\n",
       "        [False,  True, False, False, False,  True, False, False],\n",
       "        [ True, False,  True, False, False, False, False, False],\n",
       "        [False, False, False, False, False,  True,  True, False],\n",
       "        [False, False, False,  True, False,  True, False, False],\n",
       "        [False, False, False, False, False, False,  True,  True],\n",
       "        [False,  True,  True, False, False, False, False, False],\n",
       "        [False,  True, False, False,  True, False, False, False],\n",
       "        [False, False, False,  True, False, False,  True, False],\n",
       "        [ True,  True, False, False, False, False, False, False],\n",
       "        [False, False, False, False, False, False,  True,  True],\n",
       "        [False,  True, False, False,  True, False, False, False]])"
      ]
     },
     "execution_count": 9,
     "metadata": {},
     "output_type": "execute_result"
    }
   ],
   "source": [
    "first_layer10.weight * first_layer10.mask == first_layer20.weight * first_layer20.mask"
   ]
  },
  {
   "cell_type": "code",
   "execution_count": 10,
   "metadata": {},
   "outputs": [
    {
     "data": {
      "text/plain": [
       "WMLP(\n",
       "  (lins): ModuleList(\n",
       "    (0-3): 4 x SparseLinear()\n",
       "  )\n",
       "  (activation): GELU(approximate='none')\n",
       "  (flatten): Flatten(start_dim=1, end_dim=-1)\n",
       ")"
      ]
     },
     "execution_count": 10,
     "metadata": {},
     "output_type": "execute_result"
    }
   ],
   "source": [
    "criterion = nn.MSELoss()\n",
    "\n",
    "optimizer1 = torch.optim.AdamW(wmlp1.parameters(), lr=1e-3, weight_decay=0.0)\n",
    "optimizer2 = torch.optim.AdamW(wmlp2.parameters(), lr=1e-3, weight_decay=0.0)\n",
    "\n",
    "def train_for_epochs(model, optimizer, train_loader, epochs=5):\n",
    "    device = \"cpu\"\n",
    "    model.to(device)\n",
    "    for epoch in range(epochs):\n",
    "        model.train()\n",
    "        for Xb, yb in train_loader:\n",
    "            Xb, yb = Xb.to(device), yb.to(device)\n",
    "            optimizer.zero_grad()\n",
    "            preds = model(Xb)\n",
    "            loss = criterion(preds, yb)\n",
    "            loss.backward()\n",
    "            optimizer.step()\n",
    "    return model\n",
    "\n",
    "train_for_epochs(wmlp1, optimizer1, train_loader, epochs=5)\n",
    "train_for_epochs(wmlp2, optimizer2, train_loader, epochs=5)"
   ]
  },
  {
   "cell_type": "code",
   "execution_count": 11,
   "metadata": {},
   "outputs": [],
   "source": [
    "first_layer1 = wmlp1.lins[0]  # SparseLinear\n",
    "first_layer2 = wmlp2.lins[0]"
   ]
  },
  {
   "cell_type": "code",
   "execution_count": 12,
   "metadata": {},
   "outputs": [
    {
     "data": {
      "text/plain": [
       "tensor([[True, True, True, True, True, True, True, True],\n",
       "        [True, True, True, True, True, True, True, True],\n",
       "        [True, True, True, True, True, True, True, True],\n",
       "        [True, True, True, True, True, True, True, True],\n",
       "        [True, True, True, True, True, True, True, True],\n",
       "        [True, True, True, True, True, True, True, True],\n",
       "        [True, True, True, True, True, True, True, True],\n",
       "        [True, True, True, True, True, True, True, True],\n",
       "        [True, True, True, True, True, True, True, True],\n",
       "        [True, True, True, True, True, True, True, True],\n",
       "        [True, True, True, True, True, True, True, True],\n",
       "        [True, True, True, True, True, True, True, True],\n",
       "        [True, True, True, True, True, True, True, True],\n",
       "        [True, True, True, True, True, True, True, True],\n",
       "        [True, True, True, True, True, True, True, True],\n",
       "        [True, True, True, True, True, True, True, True]])"
      ]
     },
     "execution_count": 12,
     "metadata": {},
     "output_type": "execute_result"
    }
   ],
   "source": [
    "first_layer1.mask == first_layer2.mask"
   ]
  },
  {
   "cell_type": "code",
   "execution_count": 13,
   "metadata": {},
   "outputs": [
    {
     "data": {
      "text/plain": [
       "tensor([[True, True, True, True, True, True, True, True],\n",
       "        [True, True, True, True, True, True, True, True],\n",
       "        [True, True, True, True, True, True, True, True],\n",
       "        [True, True, True, True, True, True, True, True],\n",
       "        [True, True, True, True, True, True, True, True],\n",
       "        [True, True, True, True, True, True, True, True],\n",
       "        [True, True, True, True, True, True, True, True],\n",
       "        [True, True, True, True, True, True, True, True],\n",
       "        [True, True, True, True, True, True, True, True],\n",
       "        [True, True, True, True, True, True, True, True],\n",
       "        [True, True, True, True, True, True, True, True],\n",
       "        [True, True, True, True, True, True, True, True],\n",
       "        [True, True, True, True, True, True, True, True],\n",
       "        [True, True, True, True, True, True, True, True],\n",
       "        [True, True, True, True, True, True, True, True],\n",
       "        [True, True, True, True, True, True, True, True]])"
      ]
     },
     "execution_count": 13,
     "metadata": {},
     "output_type": "execute_result"
    }
   ],
   "source": [
    "first_layer1.weight * (1 - first_layer1.mask) == first_layer2.weight * (1 - first_layer2.mask)"
   ]
  },
  {
   "cell_type": "code",
   "execution_count": 14,
   "metadata": {},
   "outputs": [
    {
     "data": {
      "text/plain": [
       "tensor([[False,  True, False, False, False, False,  True, False],\n",
       "        [False, False,  True, False, False,  True, False, False],\n",
       "        [ True, False, False, False, False, False,  True, False],\n",
       "        [False, False,  True, False, False, False,  True, False],\n",
       "        [False, False, False, False, False, False,  True,  True],\n",
       "        [False,  True, False, False, False,  True, False, False],\n",
       "        [ True, False,  True, False, False, False, False, False],\n",
       "        [False, False, False, False, False,  True,  True, False],\n",
       "        [False, False, False,  True, False,  True, False, False],\n",
       "        [False, False, False, False, False, False,  True,  True],\n",
       "        [False,  True,  True, False, False, False, False, False],\n",
       "        [False,  True, False, False,  True, False, False, False],\n",
       "        [False, False, False,  True, False, False,  True, False],\n",
       "        [ True,  True, False, False, False, False, False, False],\n",
       "        [False, False, False, False, False, False,  True,  True],\n",
       "        [False,  True, False, False,  True, False, False, False]])"
      ]
     },
     "execution_count": 14,
     "metadata": {},
     "output_type": "execute_result"
    }
   ],
   "source": [
    "first_layer1.weight * first_layer1.mask == first_layer2.weight * first_layer2.mask"
   ]
  },
  {
   "cell_type": "code",
   "execution_count": 15,
   "metadata": {},
   "outputs": [
    {
     "data": {
      "text/plain": [
       "tensor([[True, True, True, True, True, True, True, True],\n",
       "        [True, True, True, True, True, True, True, True],\n",
       "        [True, True, True, True, True, True, True, True],\n",
       "        [True, True, True, True, True, True, True, True],\n",
       "        [True, True, True, True, True, True, True, True],\n",
       "        [True, True, True, True, True, True, True, True],\n",
       "        [True, True, True, True, True, True, True, True],\n",
       "        [True, True, True, True, True, True, True, True],\n",
       "        [True, True, True, True, True, True, True, True],\n",
       "        [True, True, True, True, True, True, True, True],\n",
       "        [True, True, True, True, True, True, True, True],\n",
       "        [True, True, True, True, True, True, True, True],\n",
       "        [True, True, True, True, True, True, True, True],\n",
       "        [True, True, True, True, True, True, True, True],\n",
       "        [True, True, True, True, True, True, True, True],\n",
       "        [True, True, True, True, True, True, True, True]])"
      ]
     },
     "execution_count": 15,
     "metadata": {},
     "output_type": "execute_result"
    }
   ],
   "source": [
    "first_layer1.weight * (1 - first_layer1.mask) == first_layer10.weight * (1 - first_layer10.mask)"
   ]
  },
  {
   "cell_type": "code",
   "execution_count": 16,
   "metadata": {},
   "outputs": [
    {
     "data": {
      "text/plain": [
       "tensor([[False,  True, False, False, False, False,  True, False],\n",
       "        [False, False,  True, False, False,  True, False, False],\n",
       "        [ True, False, False, False, False, False,  True, False],\n",
       "        [False, False,  True, False, False, False,  True, False],\n",
       "        [False, False, False, False, False, False,  True,  True],\n",
       "        [False,  True, False, False, False,  True, False, False],\n",
       "        [ True, False,  True, False, False, False, False, False],\n",
       "        [False, False, False, False, False,  True,  True, False],\n",
       "        [False, False, False,  True, False,  True, False, False],\n",
       "        [False, False, False, False, False, False,  True,  True],\n",
       "        [False,  True,  True, False, False, False, False, False],\n",
       "        [False,  True, False, False,  True, False, False, False],\n",
       "        [False, False, False,  True, False, False,  True, False],\n",
       "        [ True,  True, False, False, False, False, False, False],\n",
       "        [False, False, False, False, False, False,  True,  True],\n",
       "        [False,  True, False, False,  True, False, False, False]])"
      ]
     },
     "execution_count": 16,
     "metadata": {},
     "output_type": "execute_result"
    }
   ],
   "source": [
    "first_layer1.weight * (first_layer1.mask) == first_layer10.weight * (first_layer10.mask)"
   ]
  },
  {
   "cell_type": "code",
   "execution_count": 17,
   "metadata": {},
   "outputs": [
    {
     "data": {
      "text/plain": [
       "tensor([[True, True, True, True, True, True, True, True],\n",
       "        [True, True, True, True, True, True, True, True],\n",
       "        [True, True, True, True, True, True, True, True],\n",
       "        [True, True, True, True, True, True, True, True],\n",
       "        [True, True, True, True, True, True, True, True],\n",
       "        [True, True, True, True, True, True, True, True],\n",
       "        [True, True, True, True, True, True, True, True],\n",
       "        [True, True, True, True, True, True, True, True],\n",
       "        [True, True, True, True, True, True, True, True],\n",
       "        [True, True, True, True, True, True, True, True],\n",
       "        [True, True, True, True, True, True, True, True],\n",
       "        [True, True, True, True, True, True, True, True],\n",
       "        [True, True, True, True, True, True, True, True],\n",
       "        [True, True, True, True, True, True, True, True],\n",
       "        [True, True, True, True, True, True, True, True],\n",
       "        [True, True, True, True, True, True, True, True]])"
      ]
     },
     "execution_count": 17,
     "metadata": {},
     "output_type": "execute_result"
    }
   ],
   "source": [
    "first_layer2.weight * (1 - first_layer2.mask) == first_layer20.weight * (1 - first_layer20.mask)"
   ]
  },
  {
   "cell_type": "code",
   "execution_count": 18,
   "metadata": {},
   "outputs": [
    {
     "data": {
      "text/plain": [
       "tensor([[False,  True, False, False, False, False,  True, False],\n",
       "        [False, False,  True, False, False,  True, False, False],\n",
       "        [ True, False, False, False, False, False,  True, False],\n",
       "        [False, False,  True, False, False, False,  True, False],\n",
       "        [False, False, False, False, False, False,  True,  True],\n",
       "        [False,  True, False, False, False,  True, False, False],\n",
       "        [ True, False,  True, False, False, False, False, False],\n",
       "        [False, False, False, False, False,  True,  True, False],\n",
       "        [False, False, False,  True, False,  True, False, False],\n",
       "        [False, False, False, False, False, False,  True,  True],\n",
       "        [False,  True,  True, False, False, False, False, False],\n",
       "        [False,  True, False, False,  True, False, False, False],\n",
       "        [False, False, False,  True, False, False,  True, False],\n",
       "        [ True,  True, False, False, False, False, False, False],\n",
       "        [False, False, False, False, False, False,  True,  True],\n",
       "        [False,  True, False, False,  True, False, False, False]])"
      ]
     },
     "execution_count": 18,
     "metadata": {},
     "output_type": "execute_result"
    }
   ],
   "source": [
    "first_layer2.weight * (first_layer2.mask) == first_layer20.weight * (first_layer20.mask)"
   ]
  },
  {
   "cell_type": "code",
   "execution_count": 1,
   "metadata": {},
   "outputs": [],
   "source": [
    "from sklearn.datasets import fetch_california_housing, fetch_covtype, load_wine\n",
    "from sklearn.model_selection import train_test_split\n",
    "from sklearn.preprocessing import LabelEncoder, OneHotEncoder, StandardScaler\n",
    "from torch.utils.data import TensorDataset\n",
    "data = fetch_california_housing()"
   ]
  },
  {
   "cell_type": "code",
   "execution_count": 3,
   "metadata": {},
   "outputs": [
    {
     "name": "stdout",
     "output_type": "stream",
     "text": [
      ".. _california_housing_dataset:\n",
      "\n",
      "California Housing dataset\n",
      "--------------------------\n",
      "\n",
      "**Data Set Characteristics:**\n",
      "\n",
      ":Number of Instances: 20640\n",
      "\n",
      ":Number of Attributes: 8 numeric, predictive attributes and the target\n",
      "\n",
      ":Attribute Information:\n",
      "    - MedInc        median income in block group\n",
      "    - HouseAge      median house age in block group\n",
      "    - AveRooms      average number of rooms per household\n",
      "    - AveBedrms     average number of bedrooms per household\n",
      "    - Population    block group population\n",
      "    - AveOccup      average number of household members\n",
      "    - Latitude      block group latitude\n",
      "    - Longitude     block group longitude\n",
      "\n",
      ":Missing Attribute Values: None\n",
      "\n",
      "This dataset was obtained from the StatLib repository.\n",
      "https://www.dcc.fc.up.pt/~ltorgo/Regression/cal_housing.html\n",
      "\n",
      "The target variable is the median house value for California districts,\n",
      "expressed in hundreds of thousands of dollars ($100,000).\n",
      "\n",
      "This dataset was derived from the 1990 U.S. census, using one row per census\n",
      "block group. A block group is the smallest geographical unit for which the U.S.\n",
      "Census Bureau publishes sample data (a block group typically has a population\n",
      "of 600 to 3,000 people).\n",
      "\n",
      "A household is a group of people residing within a home. Since the average\n",
      "number of rooms and bedrooms in this dataset are provided per household, these\n",
      "columns may take surprisingly large values for block groups with few households\n",
      "and many empty houses, such as vacation resorts.\n",
      "\n",
      "It can be downloaded/loaded using the\n",
      ":func:`sklearn.datasets.fetch_california_housing` function.\n",
      "\n",
      ".. rubric:: References\n",
      "\n",
      "- Pace, R. Kelley and Ronald Barry, Sparse Spatial Autoregressions,\n",
      "  Statistics and Probability Letters, 33 (1997) 291-297\n",
      "\n"
     ]
    }
   ],
   "source": [
    "print(data.DESCR)"
   ]
  },
  {
   "cell_type": "code",
   "execution_count": null,
   "metadata": {},
   "outputs": [],
   "source": []
  }
 ],
 "metadata": {
  "kernelspec": {
   "display_name": "asym-ensembles-Bo8XDwk--py3.12",
   "language": "python",
   "name": "python3"
  },
  "language_info": {
   "codemirror_mode": {
    "name": "ipython",
    "version": 3
   },
   "file_extension": ".py",
   "mimetype": "text/x-python",
   "name": "python",
   "nbconvert_exporter": "python",
   "pygments_lexer": "ipython3",
   "version": "3.12.7"
  }
 },
 "nbformat": 4,
 "nbformat_minor": 2
}
