{
 "cells": [
  {
   "cell_type": "markdown",
   "metadata": {},
   "source": [
    "# TODO:\n",
    "1. Нужно random seed в саму генерацию масок прокинуть, а то там одна и та же маска на слой будет генерится. Или это норм?"
   ]
  },
  {
   "cell_type": "code",
   "execution_count": 1,
   "metadata": {},
   "outputs": [],
   "source": [
    "import sys\n",
    "from pathlib import Path\n",
    "\n",
    "def find_project_root(start_path: Path = Path.cwd(), marker: str = 'pyproject.toml') -> Path:\n",
    "    current_path = start_path.resolve()\n",
    "    for parent in [current_path] + list(current_path.parents):\n",
    "        if (parent / marker).exists():\n",
    "            return parent\n",
    "        \n",
    "def add_project_root_to_sys_path(marker: str = 'pyproject.toml'):\n",
    "    project_root = find_project_root(marker=marker)\n",
    "    if str(project_root) not in sys.path:\n",
    "        sys.path.insert(0, str(project_root))\n",
    "\n",
    "add_project_root_to_sys_path()\n"
   ]
  },
  {
   "cell_type": "markdown",
   "metadata": {},
   "source": [
    "# Imports"
   ]
  },
  {
   "cell_type": "code",
   "execution_count": 2,
   "metadata": {},
   "outputs": [],
   "source": [
    "import torch\n",
    "import torch.nn as nn\n",
    "import wandb\n",
    "from tqdm import tqdm\n",
    "from torch.utils.data import DataLoader\n",
    "from src.asym_ensembles.data_loaders import load_california_housing, load_wine_quality\n",
    "from src.asym_ensembles.modeling.training import (\n",
    "    set_global_seed,\n",
    "    train_one_model,\n",
    "    evaluate_model,\n",
    "    evaluate_ensemble\n",
    ")\n",
    "from src.asym_ensembles.modeling.models import MLP, WMLP"
   ]
  },
  {
   "cell_type": "markdown",
   "metadata": {},
   "source": [
    "# Config"
   ]
  },
  {
   "cell_type": "code",
   "execution_count": 28,
   "metadata": {},
   "outputs": [],
   "source": [
    "\n",
    "config = {\n",
    "    \"task_type\": \"regression\", # \"regression\" or \"classification\"\n",
    "    \"batch_size\": 64,\n",
    "    \"epochs\": 10,\n",
    "    \"lr\": 1e-3,\n",
    "    \"hidden_dim\": 128,\n",
    "    \"num_layers\": 4,\n",
    "    \"ensemble_sizes\": [2,4,8,16,32,64],\n",
    "    \"total_models\": 64, # max(ensemble_sizes)\n",
    "    \"device\": \"cuda\" if torch.cuda.is_available() else \"cpu\",\n",
    "    \"mask_params\": {\n",
    "    0: {'mask_constant': 1, 'mask_type': 'random_subsets', 'do_normal_mask': True, 'num_fixed': 4},\n",
    "    1: {'mask_constant': 1, 'mask_type': 'random_subsets', 'do_normal_mask': True, 'num_fixed': 64},\n",
    "    2: {'mask_constant': 1, 'mask_type': 'random_subsets', 'do_normal_mask': True, 'num_fixed': 64},\n",
    "    3: {'mask_constant': 1, 'mask_type': 'random_subsets', 'do_normal_mask': True, 'num_fixed': 64},\n",
    "}\n",
    "}"
   ]
  },
  {
   "cell_type": "code",
   "execution_count": 29,
   "metadata": {},
   "outputs": [
    {
     "data": {
      "text/html": [
       "<button onClick=\"this.nextSibling.style.display='block';this.style.display='none';\">Display W&B run</button><iframe src='https://wandb.ai/oanovi/DeepEnsembleProject/runs/al650gi4?jupyter=true' style='border:none;width:100%;height:420px;display:none;'></iframe>"
      ],
      "text/plain": [
       "<wandb.sdk.wandb_run.Run at 0x132cd70b0>"
      ]
     },
     "execution_count": 29,
     "metadata": {},
     "output_type": "execute_result"
    }
   ],
   "source": [
    "wandb.init(project=\"DeepEnsembleProject\", config=config, name=\"DeepEnsembles\")"
   ]
  },
  {
   "cell_type": "markdown",
   "metadata": {},
   "source": [
    "# Loading Data"
   ]
  },
  {
   "cell_type": "code",
   "execution_count": 30,
   "metadata": {},
   "outputs": [],
   "source": [
    "if config[\"task_type\"] == \"regression\":\n",
    "    train_ds, val_ds, test_ds = load_california_housing()\n",
    "    criterion = nn.MSELoss()\n",
    "else:\n",
    "    train_ds, val_ds, test_ds = load_wine_quality()\n",
    "    criterion = nn.CrossEntropyLoss()\n",
    "\n",
    "train_loader = DataLoader(train_ds, batch_size=config[\"batch_size\"], shuffle=True)\n",
    "val_loader = DataLoader(val_ds, batch_size=config[\"batch_size\"], shuffle=False)\n",
    "test_loader = DataLoader(test_ds, batch_size=config[\"batch_size\"], shuffle=False)\n",
    "\n",
    "in_dim = train_ds.tensors[0].shape[1]\n",
    "if config[\"task_type\"] == \"regression\":\n",
    "    out_dim = 1\n",
    "else:\n",
    "    out_dim = len(torch.unique(train_ds.tensors[1]))"
   ]
  },
  {
   "cell_type": "markdown",
   "metadata": {},
   "source": [
    "# Train base estimators (MLP and WMLP)"
   ]
  },
  {
   "cell_type": "code",
   "execution_count": 31,
   "metadata": {},
   "outputs": [],
   "source": [
    "mlp_models = []\n",
    "wmlp_models = []\n",
    "mlp_times = []\n",
    "wmlp_times = []"
   ]
  },
  {
   "cell_type": "code",
   "execution_count": 35,
   "metadata": {},
   "outputs": [
    {
     "name": "stderr",
     "output_type": "stream",
     "text": [
      "100%|██████████| 10/10 [00:01<00:00,  5.11it/s]\n",
      "100%|██████████| 10/10 [00:02<00:00,  4.27it/s]\n",
      "  0%|          | 0/64 [00:04<?, ?it/s]\n"
     ]
    }
   ],
   "source": [
    "for i in tqdm(range(config[\"total_models\"])):\n",
    "    seed_value = 1000 + i\n",
    "    set_global_seed(seed_value)\n",
    "    mlp = MLP(in_dim, config[\"hidden_dim\"], out_dim, config[\"num_layers\"], norm=None)\n",
    "\n",
    "    optimizer = torch.optim.AdamW(mlp.parameters(), lr=config[\"lr\"])\n",
    "    mlp, train_time, train_losses, val_losses = train_one_model(\n",
    "        mlp, train_loader, val_loader, criterion, optimizer,\n",
    "        device=config[\"device\"], epochs=config[\"epochs\"]\n",
    "    )\n",
    "    mlp_models.append(mlp)\n",
    "    mlp_times.append(train_time)\n",
    "    wandb.log({f\"MLP_{i}_train_time\": train_time})\n",
    "\n",
    "    metric_mlp = evaluate_model(mlp, test_loader, criterion, config[\"device\"], task_type=config[\"task_type\"])\n",
    "    wandb.log({f\"MLP_{i}_test_metric\": metric_mlp})\n",
    "\n",
    "\n",
    "    seed_value_wmlp = 2000 + i\n",
    "    set_global_seed(seed_value_wmlp)\n",
    "\n",
    "    wmlp = WMLP(in_dim, config[\"hidden_dim\"], out_dim, config[\"num_layers\"], config[\"mask_params\"], norm=None)\n",
    "\n",
    "    optimizer_wmlp = torch.optim.AdamW(wmlp.parameters(), lr=config[\"lr\"])\n",
    "    wmlp, wmlp_train_time, train_losses_w, val_losses_w = train_one_model(\n",
    "        wmlp, train_loader, val_loader, criterion, optimizer_wmlp,\n",
    "        device=config[\"device\"], epochs=config[\"epochs\"]\n",
    "    )\n",
    "    wmlp_models.append(wmlp)\n",
    "    wmlp_times.append(wmlp_train_time)\n",
    "\n",
    "    wandb.log({f\"WMLP_{i}_train_time\": wmlp_train_time})\n",
    "\n",
    "    metric_wmlp = evaluate_model(wmlp, test_loader, criterion, config[\"device\"], task_type=config[\"task_type\"])\n",
    "    wandb.log({f\"WMLP_{i}_test_metric\": metric_wmlp})"
   ]
  },
  {
   "cell_type": "markdown",
   "metadata": {},
   "source": [
    "# Building ensembles"
   ]
  },
  {
   "cell_type": "code",
   "execution_count": null,
   "metadata": {},
   "outputs": [],
   "source": [
    "for ensemble_size in config[\"ensemble_sizes\"]:\n",
    "    # Take first ensemble_size models from mlp_models\n",
    "    mlp_sub = mlp_models[:ensemble_size]\n",
    "    mlp_ens_metric = evaluate_ensemble(mlp_sub, test_loader, config[\"device\"], config[\"task_type\"])\n",
    "    wandb.log({f\"MLP_ensemble_{ensemble_size}\": mlp_ens_metric})\n",
    "\n",
    "    # WMLP\n",
    "    wmlp_sub = wmlp_models[:ensemble_size]\n",
    "    wmlp_ens_metric = evaluate_ensemble(wmlp_sub, test_loader, config[\"device\"], config[\"task_type\"])\n",
    "    wandb.log({f\"WMLP_ensemble_{ensemble_size}\": wmlp_ens_metric})\n"
   ]
  },
  {
   "cell_type": "code",
   "execution_count": null,
   "metadata": {},
   "outputs": [],
   "source": [
    "wandb.finish()"
   ]
  }
 ],
 "metadata": {
  "kernelspec": {
   "display_name": "asym-ensembles-Bo8XDwk--py3.12",
   "language": "python",
   "name": "python3"
  },
  "language_info": {
   "codemirror_mode": {
    "name": "ipython",
    "version": 3
   },
   "file_extension": ".py",
   "mimetype": "text/x-python",
   "name": "python",
   "nbconvert_exporter": "python",
   "pygments_lexer": "ipython3",
   "version": "3.12.7"
  }
 },
 "nbformat": 4,
 "nbformat_minor": 2
}
