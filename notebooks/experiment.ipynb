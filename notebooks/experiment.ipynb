{
 "cells": [
  {
   "cell_type": "markdown",
   "metadata": {},
   "source": [
    "# TODO:\n",
    "1. Нужно random seed в саму генерацию масок прокинуть, а то там одна и та же маска на слой будет генерится. Или это норм?\n",
    "2. Привести wandb в порядок (настроить, чтобы графики нормально отображались и чтобы все сохранялось в т ч модели)"
   ]
  },
  {
   "cell_type": "code",
   "execution_count": 1,
   "metadata": {},
   "outputs": [],
   "source": [
    "import sys\n",
    "from pathlib import Path\n",
    "\n",
    "def find_project_root(start_path: Path = Path.cwd(), marker: str = 'pyproject.toml') -> Path:\n",
    "    current_path = start_path.resolve()\n",
    "    for parent in [current_path] + list(current_path.parents):\n",
    "        if (parent / marker).exists():\n",
    "            return parent\n",
    "        \n",
    "def add_project_root_to_sys_path(marker: str = 'pyproject.toml'):\n",
    "    project_root = find_project_root(marker=marker)\n",
    "    if str(project_root) not in sys.path:\n",
    "        sys.path.insert(0, str(project_root))\n",
    "\n",
    "add_project_root_to_sys_path()\n"
   ]
  },
  {
   "cell_type": "markdown",
   "metadata": {},
   "source": [
    "# Imports"
   ]
  },
  {
   "cell_type": "code",
   "execution_count": 2,
   "metadata": {},
   "outputs": [],
   "source": [
    "import torch\n",
    "import torch.nn as nn\n",
    "import wandb\n",
    "from tqdm import tqdm\n",
    "from torch.utils.data import DataLoader\n",
    "from src.asym_ensembles.data_loaders import load_california_housing, load_wine_quality\n",
    "from src.asym_ensembles.modeling.training import (\n",
    "    set_global_seed,\n",
    "    train_one_model,\n",
    "    evaluate_model,\n",
    "    evaluate_ensemble\n",
    ")\n",
    "from src.asym_ensembles.modeling.models import MLP, WMLP\n",
    "import pickle\n",
    "import io\n",
    "import tempfile"
   ]
  },
  {
   "cell_type": "markdown",
   "metadata": {},
   "source": [
    "# Config"
   ]
  },
  {
   "cell_type": "code",
   "execution_count": 3,
   "metadata": {},
   "outputs": [],
   "source": [
    "\n",
    "config = {\n",
    "    \"task_type\": \"regression\", # \"regression\" or \"classification\"\n",
    "    \"batch_size\": 64,\n",
    "    \"epochs\": 10,\n",
    "    \"lr\": 1e-3,\n",
    "    \"hidden_dim\": 64,\n",
    "    \"num_layers\": 4,\n",
    "    \"ensemble_sizes\": [2,4,8,16,32,64],\n",
    "    \"total_models\": 64, # max(ensemble_sizes)\n",
    "    \"device\": \"cuda\" if torch.cuda.is_available() else \"cpu\",\n",
    "    \"mask_params\": {\n",
    "    0: {'mask_constant': 1, 'mask_type': 'random_subsets', 'do_normal_mask': True, 'num_fixed': 2}, # first layer is the most influent!\n",
    "    1: {'mask_constant': 1, 'mask_type': 'random_subsets', 'do_normal_mask': True, 'num_fixed': 4},\n",
    "    2: {'mask_constant': 1, 'mask_type': 'random_subsets', 'do_normal_mask': True, 'num_fixed': 4},\n",
    "    3: {'mask_constant': 1, 'mask_type': 'random_subsets', 'do_normal_mask': True, 'num_fixed': 4},\n",
    "}\n",
    "}"
   ]
  },
  {
   "cell_type": "code",
   "execution_count": 4,
   "metadata": {},
   "outputs": [
    {
     "name": "stderr",
     "output_type": "stream",
     "text": [
      "\u001b[34m\u001b[1mwandb\u001b[0m: Currently logged in as: \u001b[33mnovitsk-oleg\u001b[0m (\u001b[33moanovi\u001b[0m). Use \u001b[1m`wandb login --relogin`\u001b[0m to force relogin\n",
      "\u001b[34m\u001b[1mwandb\u001b[0m: Using wandb-core as the SDK backend.  Please refer to https://wandb.me/wandb-core for more information.\n"
     ]
    },
    {
     "data": {
      "text/html": [
       "Tracking run with wandb version 0.19.3"
      ],
      "text/plain": [
       "<IPython.core.display.HTML object>"
      ]
     },
     "metadata": {},
     "output_type": "display_data"
    },
    {
     "data": {
      "text/html": [
       "Run data is saved locally in <code>/Users/oanovitskij/Desktop/asym_ensembles/notebooks/wandb/run-20250116_231714-sf3wqfaa</code>"
      ],
      "text/plain": [
       "<IPython.core.display.HTML object>"
      ]
     },
     "metadata": {},
     "output_type": "display_data"
    },
    {
     "data": {
      "text/html": [
       "Syncing run <strong><a href='https://wandb.ai/oanovi/DeepEnsembleProject/runs/sf3wqfaa' target=\"_blank\">DeepEnsembles</a></strong> to <a href='https://wandb.ai/oanovi/DeepEnsembleProject' target=\"_blank\">Weights & Biases</a> (<a href='https://wandb.me/developer-guide' target=\"_blank\">docs</a>)<br>"
      ],
      "text/plain": [
       "<IPython.core.display.HTML object>"
      ]
     },
     "metadata": {},
     "output_type": "display_data"
    },
    {
     "data": {
      "text/html": [
       " View project at <a href='https://wandb.ai/oanovi/DeepEnsembleProject' target=\"_blank\">https://wandb.ai/oanovi/DeepEnsembleProject</a>"
      ],
      "text/plain": [
       "<IPython.core.display.HTML object>"
      ]
     },
     "metadata": {},
     "output_type": "display_data"
    },
    {
     "data": {
      "text/html": [
       " View run at <a href='https://wandb.ai/oanovi/DeepEnsembleProject/runs/sf3wqfaa' target=\"_blank\">https://wandb.ai/oanovi/DeepEnsembleProject/runs/sf3wqfaa</a>"
      ],
      "text/plain": [
       "<IPython.core.display.HTML object>"
      ]
     },
     "metadata": {},
     "output_type": "display_data"
    },
    {
     "data": {
      "text/html": [
       "<button onClick=\"this.nextSibling.style.display='block';this.style.display='none';\">Display W&B run</button><iframe src='https://wandb.ai/oanovi/DeepEnsembleProject/runs/sf3wqfaa?jupyter=true' style='border:none;width:100%;height:420px;display:none;'></iframe>"
      ],
      "text/plain": [
       "<wandb.sdk.wandb_run.Run at 0x1432b8140>"
      ]
     },
     "execution_count": 4,
     "metadata": {},
     "output_type": "execute_result"
    }
   ],
   "source": [
    "wandb.init(project=\"DeepEnsembleProject\", config=config, name=\"DeepEnsembles\")"
   ]
  },
  {
   "cell_type": "markdown",
   "metadata": {},
   "source": [
    "# Loading Data"
   ]
  },
  {
   "cell_type": "code",
   "execution_count": 5,
   "metadata": {},
   "outputs": [],
   "source": [
    "if config[\"task_type\"] == \"regression\":\n",
    "    train_ds, val_ds, test_ds = load_california_housing()\n",
    "    criterion = nn.MSELoss()\n",
    "else:\n",
    "    train_ds, val_ds, test_ds = load_wine_quality()\n",
    "    criterion = nn.CrossEntropyLoss()\n",
    "\n",
    "train_loader = DataLoader(train_ds, batch_size=config[\"batch_size\"], shuffle=True)\n",
    "val_loader = DataLoader(val_ds, batch_size=config[\"batch_size\"], shuffle=False)\n",
    "test_loader = DataLoader(test_ds, batch_size=config[\"batch_size\"], shuffle=False)\n",
    "\n",
    "in_dim = train_ds.tensors[0].shape[1]\n",
    "if config[\"task_type\"] == \"regression\":\n",
    "    out_dim = 1\n",
    "else:\n",
    "    out_dim = len(torch.unique(train_ds.tensors[1]))"
   ]
  },
  {
   "cell_type": "markdown",
   "metadata": {},
   "source": [
    "# Train base estimators (MLP and WMLP)"
   ]
  },
  {
   "cell_type": "code",
   "execution_count": 6,
   "metadata": {},
   "outputs": [],
   "source": [
    "mlp_models = []\n",
    "wmlp_models = []\n",
    "\n",
    "mlp_test_metrics = []\n",
    "wmlp_test_metrics = []\n",
    "\n",
    "mlp_times = []\n",
    "wmlp_times = []"
   ]
  },
  {
   "cell_type": "markdown",
   "metadata": {},
   "source": [
    "## MLP"
   ]
  },
  {
   "cell_type": "code",
   "execution_count": 7,
   "metadata": {},
   "outputs": [
    {
     "name": "stderr",
     "output_type": "stream",
     "text": [
      "Train MLP:   0%|          | 0/64 [00:00<?, ?it/s]"
     ]
    },
    {
     "name": "stderr",
     "output_type": "stream",
     "text": [
      "Train MLP: 100%|██████████| 64/64 [01:48<00:00,  1.69s/it]\n"
     ]
    }
   ],
   "source": [
    "for i in tqdm(range(config[\"total_models\"]), desc=\"Train MLP\"):\n",
    "    seed_value = 1000 + i\n",
    "    set_global_seed(seed_value)\n",
    "\n",
    "    mlp = MLP(in_dim, config[\"hidden_dim\"], out_dim, config[\"num_layers\"], norm=None)\n",
    "    \n",
    "    wandb.watch(mlp, log=\"all\", log_freq=100)\n",
    "\n",
    "    optimizer = torch.optim.AdamW(mlp.parameters(), lr=config[\"lr\"])\n",
    "    mlp, train_time, train_losses, val_losses = train_one_model(\n",
    "        mlp, train_loader, val_loader, criterion, optimizer,\n",
    "        device=config[\"device\"], epochs=config[\"epochs\"]\n",
    "    )\n",
    "    mlp_models.append(mlp)\n",
    "    mlp_times.append(train_time)\n",
    "\n",
    "    metric_mlp = evaluate_model(mlp, test_loader, criterion, config[\"device\"], task_type=config[\"task_type\"])\n",
    "    mlp_test_metrics.append(metric_mlp)\n",
    "\n",
    "    wandb.log({\n",
    "        \"model_idx\": i,\n",
    "        \"MLP_test_metric\": metric_mlp,\n",
    "        \"MLP_train_time\": train_time\n",
    "    })"
   ]
  },
  {
   "cell_type": "markdown",
   "metadata": {},
   "source": [
    "## WMLP"
   ]
  },
  {
   "cell_type": "code",
   "execution_count": 8,
   "metadata": {},
   "outputs": [
    {
     "name": "stderr",
     "output_type": "stream",
     "text": [
      "Train WMLP: 100%|██████████| 64/64 [02:00<00:00,  1.88s/it]\n"
     ]
    }
   ],
   "source": [
    "for i in tqdm(range(config[\"total_models\"]), desc=\"Train WMLP\"):\n",
    "    seed_value_wmlp = 2000 + i\n",
    "    set_global_seed(seed_value_wmlp)\n",
    "\n",
    "    wmlp = WMLP(in_dim, config[\"hidden_dim\"], out_dim, config[\"num_layers\"], config[\"mask_params\"], norm=None)\n",
    "    \n",
    "    wandb.watch(wmlp, log=\"all\", log_freq=100)\n",
    "\n",
    "    optimizer_wmlp = torch.optim.AdamW(wmlp.parameters(), lr=config[\"lr\"])\n",
    "    wmlp, wmlp_train_time, train_losses_w, val_losses_w = train_one_model(\n",
    "        wmlp, train_loader, val_loader, criterion, optimizer_wmlp,\n",
    "        device=config[\"device\"], epochs=config[\"epochs\"]\n",
    "    )\n",
    "    wmlp_models.append(wmlp)\n",
    "    wmlp_times.append(wmlp_train_time)\n",
    "\n",
    "    metric_wmlp = evaluate_model(wmlp, test_loader, criterion, config[\"device\"], task_type=config[\"task_type\"])\n",
    "    wmlp_test_metrics.append(metric_wmlp)\n",
    "\n",
    "    wandb.log({\n",
    "        \"model_idx\": i,\n",
    "        \"WMLP_test_metric\": metric_wmlp,\n",
    "        \"WMLP_train_time\": wmlp_train_time\n",
    "    })"
   ]
  },
  {
   "cell_type": "code",
   "execution_count": 10,
   "metadata": {},
   "outputs": [],
   "source": [
    "metrics_table = wandb.Table(columns=[\"model_idx\", \"MLP_test_metric\", \"WMLP_test_metric\"])\n",
    "time_table = wandb.Table(columns=[\"model_idx\", \"MLP_train_time\", \"WMLP_train_time\"])\n",
    "\n",
    "for i in range(config[\"total_models\"]):\n",
    "    metrics_table.add_data(i, mlp_test_metrics[i], wmlp_test_metrics[i])\n",
    "    time_table.add_data(i, mlp_times[i], wmlp_times[i])\n",
    "\n",
    "wandb.log({\"test_metrics_table\": metrics_table})\n",
    "wandb.log({\"train_times_table\": time_table})"
   ]
  },
  {
   "cell_type": "markdown",
   "metadata": {},
   "source": [
    "# Building ensembles"
   ]
  },
  {
   "cell_type": "code",
   "execution_count": 11,
   "metadata": {},
   "outputs": [],
   "source": [
    "ensemble_table = wandb.Table(columns=[\"ensemble_size\", \"mlp_ens_metric\", \"wmlp_ens_metric\"])\n",
    "\n",
    "for ensemble_size in config[\"ensemble_sizes\"]:\n",
    "    # MLP\n",
    "    mlp_sub = mlp_models[:ensemble_size]\n",
    "    mlp_ens_metric = evaluate_ensemble(mlp_sub, test_loader, config[\"device\"], config[\"task_type\"])\n",
    "\n",
    "    # WMLP\n",
    "    wmlp_sub = wmlp_models[:ensemble_size]\n",
    "    wmlp_ens_metric = evaluate_ensemble(wmlp_sub, test_loader, config[\"device\"], config[\"task_type\"])\n",
    "\n",
    "    wandb.log({\n",
    "        \"ensemble_size\": ensemble_size,\n",
    "        \"mlp_ens_metric\": mlp_ens_metric,\n",
    "        \"wmlp_ens_metric\": wmlp_ens_metric\n",
    "    })\n",
    "\n",
    "    ensemble_table.add_data(ensemble_size, mlp_ens_metric, wmlp_ens_metric)\n",
    "\n",
    "wandb.log({\"ensemble_metrics_table\": ensemble_table})"
   ]
  },
  {
   "cell_type": "code",
   "execution_count": 12,
   "metadata": {},
   "outputs": [
    {
     "data": {
      "text/html": [],
      "text/plain": [
       "<IPython.core.display.HTML object>"
      ]
     },
     "metadata": {},
     "output_type": "display_data"
    },
    {
     "data": {
      "text/html": [
       "<br>    <style><br>        .wandb-row {<br>            display: flex;<br>            flex-direction: row;<br>            flex-wrap: wrap;<br>            justify-content: flex-start;<br>            width: 100%;<br>        }<br>        .wandb-col {<br>            display: flex;<br>            flex-direction: column;<br>            flex-basis: 100%;<br>            flex: 1;<br>            padding: 10px;<br>        }<br>    </style><br><div class=\"wandb-row\"><div class=\"wandb-col\"><h3>Run history:</h3><br/><table class=\"wandb\"><tr><td>MLP_test_metric</td><td>▁▄▁▂▂▃▄▂▂▄▂▂▅▂▃▃▅▂▁▃▃▃█▅▂▃▃▄▄▅▃▄▄▄▃▂▂▂▂▃</td></tr><tr><td>MLP_train_time</td><td>▅▃▆▂▂▃▅▂▃▃▂▃▂▃▅▃▇▆▄▃▃▂▃█▂▄▃▄▂▂▃▃▂▃▂▁▄▃▂▅</td></tr><tr><td>WMLP_test_metric</td><td>▃▂▂█▃▅▃▁▄▆▂▃▂█▂▄▁▄▂▃▃▅▂▇▄▁▅▄▃▂▃▄▂▅▃▅▃▃▃▃</td></tr><tr><td>WMLP_train_time</td><td>▅▂▅▂▃▂▂▂▂▄▃▂▂▁▄▂▂▂█▄▅▅▃▄▂▃▃▁▁▂▂▅▃▂▁▃▂▂▄▁</td></tr><tr><td>ensemble_size</td><td>▁▁▂▃▄█</td></tr><tr><td>mlp_ens_metric</td><td>█▃▂▁▂▄</td></tr><tr><td>model_idx</td><td>▁▂▂▂▃▄▄▄▄▄▅▅▅▆▆▆▆▇▇▇█▁▂▃▃▃▄▄▄▅▅▅▅▆▆▆▇███</td></tr><tr><td>wmlp_ens_metric</td><td>█▃▂▂▁▁</td></tr></table><br/></div><div class=\"wandb-col\"><h3>Run summary:</h3><br/><table class=\"wandb\"><tr><td>MLP_test_metric</td><td>0.57891</td></tr><tr><td>MLP_train_time</td><td>1.5594</td></tr><tr><td>WMLP_test_metric</td><td>0.74869</td></tr><tr><td>WMLP_train_time</td><td>1.79914</td></tr><tr><td>ensemble_size</td><td>64</td></tr><tr><td>mlp_ens_metric</td><td>0.56577</td></tr><tr><td>model_idx</td><td>63</td></tr><tr><td>wmlp_ens_metric</td><td>0.5592</td></tr></table><br/></div></div>"
      ],
      "text/plain": [
       "<IPython.core.display.HTML object>"
      ]
     },
     "metadata": {},
     "output_type": "display_data"
    },
    {
     "data": {
      "text/html": [
       " View run <strong style=\"color:#cdcd00\">DeepEnsembles</strong> at: <a href='https://wandb.ai/oanovi/DeepEnsembleProject/runs/sf3wqfaa' target=\"_blank\">https://wandb.ai/oanovi/DeepEnsembleProject/runs/sf3wqfaa</a><br> View project at: <a href='https://wandb.ai/oanovi/DeepEnsembleProject' target=\"_blank\">https://wandb.ai/oanovi/DeepEnsembleProject</a><br>Synced 5 W&B file(s), 3 media file(s), 9 artifact file(s) and 0 other file(s)"
      ],
      "text/plain": [
       "<IPython.core.display.HTML object>"
      ]
     },
     "metadata": {},
     "output_type": "display_data"
    },
    {
     "data": {
      "text/html": [
       "Find logs at: <code>./wandb/run-20250116_231714-sf3wqfaa/logs</code>"
      ],
      "text/plain": [
       "<IPython.core.display.HTML object>"
      ]
     },
     "metadata": {},
     "output_type": "display_data"
    }
   ],
   "source": [
    "mlp_state_dicts = [m.state_dict() for m in mlp_models]\n",
    "wmlp_state_dicts = [m.state_dict() for m in wmlp_models]\n",
    "\n",
    "with tempfile.NamedTemporaryFile(delete=False, suffix=\".pkl\") as mlp_temp:\n",
    "    pickle.dump(mlp_state_dicts, mlp_temp)\n",
    "    mlp_temp_path = mlp_temp.name\n",
    "\n",
    "with tempfile.NamedTemporaryFile(delete=False, suffix=\".pkl\") as wmlp_temp:\n",
    "    pickle.dump(wmlp_state_dicts, wmlp_temp)\n",
    "    wmlp_temp_path = wmlp_temp.name\n",
    "\n",
    "artifact = wandb.Artifact(\"model_lists\", type=\"model_collection\")\n",
    "artifact.add_file(mlp_temp_path, \"mlp_models_state_dicts.pkl\")\n",
    "artifact.add_file(wmlp_temp_path, \"wmlp_models_state_dicts.pkl\")\n",
    "wandb.run.log_artifact(artifact)\n",
    "\n",
    "wandb.finish()"
   ]
  },
  {
   "cell_type": "code",
   "execution_count": null,
   "metadata": {},
   "outputs": [],
   "source": []
  },
  {
   "cell_type": "code",
   "execution_count": null,
   "metadata": {},
   "outputs": [],
   "source": []
  }
 ],
 "metadata": {
  "kernelspec": {
   "display_name": "asym-ensembles-Bo8XDwk--py3.12",
   "language": "python",
   "name": "python3"
  },
  "language_info": {
   "codemirror_mode": {
    "name": "ipython",
    "version": 3
   },
   "file_extension": ".py",
   "mimetype": "text/x-python",
   "name": "python",
   "nbconvert_exporter": "python",
   "pygments_lexer": "ipython3",
   "version": "3.12.7"
  }
 },
 "nbformat": 4,
 "nbformat_minor": 2
}
